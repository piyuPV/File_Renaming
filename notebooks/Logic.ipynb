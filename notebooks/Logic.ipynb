{
 "cells": [
  {
   "cell_type": "code",
   "execution_count": 1,
   "id": "000e3ddb-941c-45dc-bc44-1d4a31f17c12",
   "metadata": {},
   "outputs": [],
   "source": [
    "import os"
   ]
  },
  {
   "cell_type": "code",
   "execution_count": 2,
   "id": "f00640ae-85e8-4d53-a97d-61ae70166061",
   "metadata": {},
   "outputs": [],
   "source": [
    "os.rename('demo.txt', 'exp01Durvesh20.txt')"
   ]
  },
  {
   "cell_type": "code",
   "execution_count": 3,
   "id": "f5bde23b-e889-4593-b287-948bb54eff37",
   "metadata": {},
   "outputs": [],
   "source": [
    "file = 'exp01Durvesh20.txt'"
   ]
  },
  {
   "cell_type": "code",
   "execution_count": 4,
   "id": "22a00507-eab1-46f3-99e3-917648c996a9",
   "metadata": {},
   "outputs": [],
   "source": [
    "import zipfile"
   ]
  },
  {
   "cell_type": "code",
   "execution_count": null,
   "id": "3d1a8e8e-3c13-4ef2-916a-3fd6a4e92c3d",
   "metadata": {},
   "outputs": [],
   "source": [
    "with zipfile.ZipFile(path, 'r') as zip_ref:\n",
    "    zip_ref.extractall(directory_to_extract_to)"
   ]
  },
  {
   "cell_type": "code",
   "execution_count": 5,
   "id": "67813f83-5462-49a0-87e9-2e3bbe0a9e80",
   "metadata": {},
   "outputs": [
    {
     "name": "stdout",
     "output_type": "stream",
     "text": [
      "exp01Durvesh20.txt\n"
     ]
    }
   ],
   "source": [
    "print(file)"
   ]
  },
  {
   "cell_type": "code",
   "execution_count": 19,
   "id": "36590bde-9055-4f77-9b64-0f2d33646b0f",
   "metadata": {},
   "outputs": [
    {
     "name": "stdout",
     "output_type": "stream",
     "text": [
      "Enter the new name (e.g., Piyush49):  Shruti49\n",
      "Enter the name to replace (e.g., Durvesh20):  Piyush49\n"
     ]
    },
    {
     "name": "stdout",
     "output_type": "stream",
     "text": [
      "File renamed to exp01Shruti49.txt\n"
     ]
    }
   ],
   "source": [
    "import os\n",
    "\n",
    "new_name = input(\"Enter the new name (e.g., Piyush49): \")\n",
    "to_replace_with = input(\"Enter the name to replace (e.g., Durvesh20): \")\n",
    "\n",
    "new_filename = file.replace(to_replace_with, new_name)\n",
    "\n",
    "try:\n",
    "    os.rename(file, new_filename)\n",
    "    print(f\"File renamed to {new_filename}\")\n",
    "except FileNotFoundError:\n",
    "    print(\"File not found. Make sure the old file exists.\")\n",
    "except Exception as e:\n",
    "    print(f\"Error renaming file: {e}\")\n",
    "file = new_filename\n"
   ]
  },
  {
   "cell_type": "code",
   "execution_count": 8,
   "id": "9bb0541e-131e-48b2-9c37-fd645a5c62f7",
   "metadata": {},
   "outputs": [
    {
     "name": "stdin",
     "output_type": "stream",
     "text": [
      "Enter the new name (e.g., Piyush49):  Shruti48\n",
      "Enter the name to replace (e.g., Durvesh20):  Piyush49\n",
      "Enter the path to the zip file:  DeepLearning.zip\n"
     ]
    },
    {
     "name": "stdout",
     "output_type": "stream",
     "text": [
      "Files extracted successfully.\n",
      "Renamed: C://Users//piyus//Desktop//reading//notebooks\\Exp01Piyush49.pdf -> C://Users//piyus//Desktop//reading//notebooks\\Exp01Shruti48.pdf\n",
      "Renamed: C://Users//piyus//Desktop//reading//notebooks\\Exp02Piyush49.pdf -> C://Users//piyus//Desktop//reading//notebooks\\Exp02Shruti48.pdf\n",
      "Renamed: C://Users//piyus//Desktop//reading//notebooks\\Exp03Piyush49.pdf -> C://Users//piyus//Desktop//reading//notebooks\\Exp03Shruti48.pdf\n",
      "Renamed: C://Users//piyus//Desktop//reading//notebooks\\Exp04Piyush49.pdf -> C://Users//piyus//Desktop//reading//notebooks\\Exp04Shruti48.pdf\n",
      "Renamed: C://Users//piyus//Desktop//reading//notebooks\\Exp05Piyush49.pdf -> C://Users//piyus//Desktop//reading//notebooks\\Exp05Shruti48.pdf\n",
      "Renamed: C://Users//piyus//Desktop//reading//notebooks\\Exp06Piyush49.pdf -> C://Users//piyus//Desktop//reading//notebooks\\Exp06Shruti48.pdf\n",
      "Renamed: C://Users//piyus//Desktop//reading//notebooks\\Exp07Piyush49.pdf -> C://Users//piyus//Desktop//reading//notebooks\\Exp07Shruti48.pdf\n",
      "Renamed: C://Users//piyus//Desktop//reading//notebooks\\Exp08Piyush49.pdf -> C://Users//piyus//Desktop//reading//notebooks\\Exp08Shruti48.pdf\n",
      "Renamed: C://Users//piyus//Desktop//reading//notebooks\\Exp09Piyush49.pdf -> C://Users//piyus//Desktop//reading//notebooks\\Exp09Shruti48.pdf\n"
     ]
    }
   ],
   "source": [
    "import os\n",
    "import zipfile\n",
    "\n",
    "new_name = input(\"Enter the new name (e.g., Piyush49): \")\n",
    "to_replace_with = input(\"Enter the name to replace (e.g., Durvesh20): \")\n",
    "\n",
    "# Path to the zip file\n",
    "zip_path = input(\"Enter the path to the zip file: \")\n",
    "# Directory where files will be extracted\n",
    "directory_to_extract_to = 'C://Users//piyus//Desktop//reading//notebooks'\n",
    "\n",
    "# Function to rename files\n",
    "def rename_file(file, new_name, to_replace_with):\n",
    "    if to_replace_with in file:\n",
    "        new_filename = file.replace(to_replace_with, new_name)\n",
    "        return new_filename\n",
    "    return file\n",
    "\n",
    "# Extract and rename files\n",
    "try:\n",
    "    with zipfile.ZipFile(zip_path, 'r') as zip_ref:\n",
    "        zip_ref.extractall(directory_to_extract_to)\n",
    "        print(\"Files extracted successfully.\")\n",
    "        \n",
    "        # Rename files after extraction\n",
    "        for root, dirs, files in os.walk(directory_to_extract_to):\n",
    "            for file in files:\n",
    "                old_file_path = os.path.join(root, file)\n",
    "                new_filename = rename_file(file, new_name, to_replace_with)\n",
    "                new_file_path = os.path.join(root, new_filename)\n",
    "                \n",
    "                if old_file_path != new_file_path:\n",
    "                    os.rename(old_file_path, new_file_path)\n",
    "                    print(f\"Renamed: {old_file_path} -> {new_file_path}\")\n",
    "\n",
    "except FileNotFoundError:\n",
    "    print(\"Zip file not found. Make sure the path is correct.\")\n",
    "except Exception as e:\n",
    "    print(f\"An error occurred: {e}\")\n"
   ]
  },
  {
   "cell_type": "code",
   "execution_count": null,
   "id": "1419cff4-a4d0-4180-b01f-0f8c9143199f",
   "metadata": {},
   "outputs": [],
   "source": []
  }
 ],
 "metadata": {
  "kernelspec": {
   "display_name": "Python 3 (ipykernel)",
   "language": "python",
   "name": "python3"
  },
  "language_info": {
   "codemirror_mode": {
    "name": "ipython",
    "version": 3
   },
   "file_extension": ".py",
   "mimetype": "text/x-python",
   "name": "python",
   "nbconvert_exporter": "python",
   "pygments_lexer": "ipython3",
   "version": "3.11.7"
  }
 },
 "nbformat": 4,
 "nbformat_minor": 5
}
